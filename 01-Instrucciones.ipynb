{
 "cells": [
  {
   "cell_type": "markdown",
   "metadata": {},
   "source": [
    "# W3 - ¡Soy analista de datos!\n",
    "Eres el nuevo analista de datos de tu empresa, acabas de incorporarte y te han encargado un marrón del que no puedes escapar.\n",
    "Hay una reunión urgente el próximo martes con un comprador súper interesado en tu producto/servicio.\n",
    "Tienes que convencer a esas personas de que tu producto/servicio es increíble y solo te han dejado un dataset...crees que no vas a conseguirlo, pero vas a limpiarlo, analizarlo y con la magia de los gráficos lograrás convencer a todo el mundo de LO QUE QUIERAS.\n",
    "​\n",
    "### Objetivos del proyecto\n",
    "Los objetivos de este proyecto son poner en práctica todo lo que has aprendido durante estas semanas. Trabajar en diferentes formatos de archivos (.py). Realizar funciones que tengan diferentes propósitos. Poder importar diversos archivos de funciones a un jupyter notebook. Afianzar y superarte en tus conocimientos de Pandas y otras librerías utilizadas en clase. Manejar un dataset nuevo a la perfección. Contar una historia sacando conclusiones gracias a los gráficos que puedas pintar.\n",
    "​\n",
    "### Requisitos\n",
    "- Jupyters notebook:\n",
    "    - Limpieza de los datos.\n",
    "    - Story telling: donde partes de los datos limpios para crear un reporte para tu posible comprador con tablas, gráficas y todo lo necesario para convencerle de que es una buena inversión. Acuérdate que eso es lo que se entregará directamente al cliente, tiene que estar limpio, cristalino y bonito.\n",
    "    - Jupyter para análisis detallado de los datos: Debe contener la importación y la documentación de por lo menos 3 funciones, que permitan a una persona eligir parametros de los datos (e.g.: un rango de años, un producto especifico, etc) y recibir datos relevantes (tablas, graficas, etc)\n",
    "​\n",
    "- Código en funciones:\n",
    "    - Funciones de proposito unico, parametrizadas.\n",
    "    - Funciones puras.\n",
    "    - Diferentes archivos .py con funciones, uno de ellos para limpieza, el resto a tu criterio.\n",
    "    - Tiene que haber más de 4 funciones.\n",
    "- Gráficos:\n",
    "    - Tiene que haber, al menos, dos librerías diferentes de gráficos.\n",
    "    - Elegir diferentes tipos de gráficos:\n",
    "        - Bar.\n",
    "        - Line.\n",
    "        - Pie.\n",
    "        - Candlestick.\n",
    "    - Los gráficos deben tener títulos, leyendas, nombres en los ejes...\n",
    "​\n",
    "- Técnicas de Python:\n",
    "    - Regex, al menos una expresión regular para la limpieza.\n",
    "    - Lambda, por lo menos una función lambda en el proyecto.\n",
    "    - Apply, aplicar funciones al dataset mediante apply.\n",
    "​\n",
    "### ¿Por dónde empiezo?\n",
    "Elige un dataset de Kaggle https://www.kaggle.com/ o... ¡varios!. Temática libre.\n",
    "Analízalo, explóralo a fondo.\n",
    "Después limpialo y dale la forma que necesites para contar tu historia. Piensa que tienes que convencer a una gente importante y tu futuro depende de ello. \n",
    "Aplica todas las funciones que necesites para ello.\n",
    "Saca los gráficos más molones y mejor explicados de la historia.\n",
    "Parametriza las funciones para que al llamarlas muestren diferentes gráficos o tablas o los datos que consideres, y que se pueda utilizar esa misma función para mostrar diferentes cosas en función de los parámetros que le pongas al llamarlas.\n",
    "​\n",
    "## Links y recursos\n",
    "- https://plotly.com/python/\n",
    "- https://matplotlib.org/\n",
    "- https://seaborn.pydata.org/\n",
    "- https://pandas.pydata.org/docs/\n",
    "- https://towardsdatascience.com/beware-of-storytelling-with-data-1710fea554b0?gi=537e0c10d89e\n"
   ]
  }
 ],
 "metadata": {
  "kernelspec": {
   "display_name": "Python 3",
   "language": "python",
   "name": "python3"
  },
  "language_info": {
   "codemirror_mode": {
    "name": "ipython",
    "version": 3
   },
   "file_extension": ".py",
   "mimetype": "text/x-python",
   "name": "python",
   "nbconvert_exporter": "python",
   "pygments_lexer": "ipython3",
   "version": "3.8.2"
  }
 },
 "nbformat": 4,
 "nbformat_minor": 4
}
