{
 "cells": [
  {
   "cell_type": "code",
   "execution_count": 1,
   "metadata": {},
   "outputs": [
    {
     "name": "stdout",
     "output_type": "stream",
     "text": [
      "Setup completado!\n"
     ]
    }
   ],
   "source": [
    "import ipywidgets as widgets\n",
    "from IPython.display import display\n",
    "\n",
    "import pandas as pd\n",
    "import seaborn as sns\n",
    "import matplotlib.pyplot as plt\n",
    "from datetime import datetime\n",
    "\n",
    "# Importo funciones del directorio src\n",
    "import src.toolbox as tb\n",
    "import src.limpieza as l\n",
    "\n",
    "# Cargo el dataframe\n",
    "df = pd.read_csv(\"input/covid_19_containment_measures_data.csv\")\n",
    "\n",
    "# Aplico los pasos de limpieza que he seguido en el notebook 01-limpieza usando algunas funciones\n",
    "df = l.drop_nan_by_field(df, 'Country')\n",
    "df = l.divide_csv_field(df, 'Keywords')\n",
    "df = l.df_select_columns(df, \"Country\", \"Date Start\", \"Date end intended\", \"Keywords\")\n",
    "df['Date Start'] = pd.to_datetime(df['Date Start'], format='%b %d, %Y')\n",
    "df['Country'] = df['Country'].apply(lambda c: \"United States\" if c.startswith(\"US:\") else c)\n",
    "df['Keywords'] = df['Keywords'].apply(lambda s: s.strip())\n",
    "df['Keywords'] = df['Keywords'].apply(l.normalize_keyword_field)\n",
    "\n",
    "print(\"Setup completado!\")"
   ]
  },
  {
   "cell_type": "markdown",
   "metadata": {},
   "source": [
    "# Dropdown de Paises:\n",
    "Medidas adoptadas por cada país."
   ]
  },
  {
   "cell_type": "code",
   "execution_count": 2,
   "metadata": {},
   "outputs": [],
   "source": [
    "ALL = 'ALL'\n",
    "\n",
    "# Creo un dropdown y le paso los valores de la columna Country.\n",
    "dropdown_country = widgets.Dropdown(options = tb.unique_sorted_values_plus_ALL(df['Country']))\n",
    "\n",
    "# Creo un objeto Output para gestionar la salida de datos.\n",
    "output_country = widgets.Output()\n",
    "\n",
    "# Creo un event handler para gestionar el cambio de item en el dropdown.\n",
    "def dropdown_country_eventhandler(change):\n",
    "    output_country.clear_output()\n",
    "    with output_country:\n",
    "        if (change.new == ALL):\n",
    "            # Muestro solo los cinco primeros valores (para no saturar el notebook)\n",
    "            display(df.head())\n",
    "        else:\n",
    "            # Muestro los valores unicos de Keywords\n",
    "            display(df[df[\"Country\"] == change.new].drop_duplicates(subset=['Keywords']).sort_values(by=\"Date Start\"))\n",
    "\n",
    "# Asocia el event handler al dropdown\n",
    "dropdown_country.observe(dropdown_country_eventhandler, names='value')"
   ]
  },
  {
   "cell_type": "code",
   "execution_count": 3,
   "metadata": {},
   "outputs": [
    {
     "data": {
      "application/vnd.jupyter.widget-view+json": {
       "model_id": "01e15acdc66345dcbe5abf33dfce2205",
       "version_major": 2,
       "version_minor": 0
      },
      "text/plain": [
       "Dropdown(options=('ALL', 'Afghanistan', 'Albania', 'Andorra', 'Armenia', 'Australia', 'Austria', 'Azerbaijan',…"
      ]
     },
     "metadata": {},
     "output_type": "display_data"
    },
    {
     "data": {
      "application/vnd.jupyter.widget-view+json": {
       "model_id": "789b83b7b44f4b28a0971b09f3d5c35e",
       "version_major": 2,
       "version_minor": 0
      },
      "text/plain": [
       "Output()"
      ]
     },
     "metadata": {},
     "output_type": "display_data"
    }
   ],
   "source": [
    "# Muestra el dropdown\n",
    "display(dropdown_country)\n",
    "\n",
    "# Muestra el output (sin esto y el código que hemos puesto al principio del event handler los resultados se apiñan uno detras de otro)\n",
    "display(output_country)"
   ]
  },
  {
   "cell_type": "markdown",
   "metadata": {},
   "source": [
    "# Selección por rango de fechas"
   ]
  },
  {
   "cell_type": "code",
   "execution_count": 55,
   "metadata": {},
   "outputs": [],
   "source": [
    "# Defino las fechas limite partiendo de la primera y ultima del dataframe\n",
    "start_date = min(df['Date Start'])\n",
    "end_date = max(df['Date Start'])\n",
    "\n",
    "dates = pd.date_range(start_date, end_date, freq='D')\n",
    "\n",
    "options = [(date.strftime(' %Y-%m-%d '), date) for date in dates]\n",
    "index = (0, len(options)-1)\n",
    "\n",
    "# Con las opciones calculadas arriba creo un SelectionRangeSlider\n",
    "date_slider = widgets.SelectionRangeSlider(\n",
    "    options=options,\n",
    "    index=index,\n",
    "    description='Fechas',\n",
    "    orientation='horizontal',\n",
    "    layout={'width': '500px'}\n",
    ")\n",
    "\n",
    "# Creo un objeto Output para gestionar la salida de datos del grafico.\n",
    "plot_output = widgets.Output()\n",
    "\n",
    "# Creo un event handler para gestionar el cambio en los rangos de fechas.\n",
    "def date_slider_eventhandler(change):\n",
    "    plot_output.clear_output()\n",
    "    \n",
    "    with plot_output:\n",
    "        fecha_inferior, fecha_superior = change.new\n",
    "        #df[(df['Keywords'] != \"first case\") & (df[\"Date Start\"] >= fecha_inferior) & (df[\"Date Start\"] <= fecha_superior)]['Country'].head().value_counts().plot.bar()\n",
    "        #df[(df['Keywords'] != \"first case\") & (df[\"Date Start\"] >= fecha_inferior) & (df[\"Date Start\"] <= fecha_superior)]['Country'].head().value_counts()\n",
    "        display(df[(df[\"Date Start\"] >= fecha_inferior) & (df[\"Date Start\"] <= fecha_superior)])\n",
    "        \n",
    "# Asocio el event handler al slider de fechas\n",
    "date_slider.observe(date_slider_eventhandler, names='value')"
   ]
  },
  {
   "cell_type": "code",
   "execution_count": 56,
   "metadata": {},
   "outputs": [
    {
     "data": {
      "application/vnd.jupyter.widget-view+json": {
       "model_id": "6def4faeb96143649fd2a0692310d3a1",
       "version_major": 2,
       "version_minor": 0
      },
      "text/plain": [
       "SelectionRangeSlider(description='Fechas', index=(0, 119), layout=Layout(width='500px'), options=((' 2019-12-1…"
      ]
     },
     "metadata": {},
     "output_type": "display_data"
    },
    {
     "data": {
      "application/vnd.jupyter.widget-view+json": {
       "model_id": "541d3150a6e040b7bd5fa8e3d9a58aa5",
       "version_major": 2,
       "version_minor": 0
      },
      "text/plain": [
       "Output()"
      ]
     },
     "metadata": {},
     "output_type": "display_data"
    }
   ],
   "source": [
    "# Muestro el slider\n",
    "display(date_slider)\n",
    "\n",
    "# Muestra el output\n",
    "display(plot_output)"
   ]
  }
 ],
 "metadata": {
  "kernelspec": {
   "display_name": "Python 3",
   "language": "python",
   "name": "python3"
  },
  "language_info": {
   "codemirror_mode": {
    "name": "ipython",
    "version": 3
   },
   "file_extension": ".py",
   "mimetype": "text/x-python",
   "name": "python",
   "nbconvert_exporter": "python",
   "pygments_lexer": "ipython3",
   "version": "3.8.2"
  }
 },
 "nbformat": 4,
 "nbformat_minor": 4
}
