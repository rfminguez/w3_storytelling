{
 "cells": [
  {
   "cell_type": "code",
   "execution_count": 2,
   "metadata": {},
   "outputs": [
    {
     "name": "stdout",
     "output_type": "stream",
     "text": [
      "Setup completado!\n"
     ]
    }
   ],
   "source": [
    "import pandas as pd\n",
    "\n",
    "# Importo funciones del directorio src\n",
    "# from src.toolbox import test_toolbox\n",
    "import src.limpieza as l\n",
    "\n",
    "# Cargo el dataframe\n",
    "df = pd.read_csv(\"input/covid_19_containment_measures_data.csv\")\n",
    "\n",
    "# Aplico las funciones para limpiar datos\n",
    "drop_nan_by_field\n",
    "normalize_us_data\n",
    "divide_csv_field\n",
    "df = l.df_select_columns(df, \"Country\", \"Date Start\", \"Date end intended\", \"Keywords\")\n",
    "\n",
    "normalize_keyword_field\n",
    "\n",
    "\n",
    "# Al final me quedo con al dataframe limpio.\n",
    "\n",
    "print(\"Setup completado!\")"
   ]
  }
 ],
 "metadata": {
  "kernelspec": {
   "display_name": "Python 3",
   "language": "python",
   "name": "python3"
  },
  "language_info": {
   "codemirror_mode": {
    "name": "ipython",
    "version": 3
   },
   "file_extension": ".py",
   "mimetype": "text/x-python",
   "name": "python",
   "nbconvert_exporter": "python",
   "pygments_lexer": "ipython3",
   "version": "3.8.2"
  }
 },
 "nbformat": 4,
 "nbformat_minor": 4
}
