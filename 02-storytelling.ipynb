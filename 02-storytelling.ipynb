{
 "cells": [
  {
   "cell_type": "code",
   "execution_count": 1,
   "metadata": {},
   "outputs": [
    {
     "name": "stdout",
     "output_type": "stream",
     "text": [
      "Setup completado!\n"
     ]
    }
   ],
   "source": [
    "import pandas as pd\n",
    "\n",
    "# Importo funciones del directorio src\n",
    "from src.toolbox import test_toolbox\n",
    "from src.limpieza import test_limpieza\n",
    "\n",
    "# Cargo el dataframe\n",
    "df = pd.read_csv(\"input/covid_19_containment_measures_data.csv\")\n",
    "\n",
    "# Aplico las funciones para limpiar datos\n",
    "\n",
    "\n",
    "print(\"Setup completado!\")"
   ]
  }
 ],
 "metadata": {
  "kernelspec": {
   "display_name": "Python 3",
   "language": "python",
   "name": "python3"
  },
  "language_info": {
   "codemirror_mode": {
    "name": "ipython",
    "version": 3
   },
   "file_extension": ".py",
   "mimetype": "text/x-python",
   "name": "python",
   "nbconvert_exporter": "python",
   "pygments_lexer": "ipython3",
   "version": "3.8.2"
  }
 },
 "nbformat": 4,
 "nbformat_minor": 4
}
